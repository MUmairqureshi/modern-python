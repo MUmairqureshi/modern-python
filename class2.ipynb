{
 "cells": [
  {
   "cell_type": "code",
   "execution_count": 8,
   "metadata": {},
   "outputs": [
    {
     "name": "stdout",
     "output_type": "stream",
     "text": [
      "PIAIC Student : Umair\n",
      "Age : 32\n"
     ]
    }
   ],
   "source": [
    "# boundries\n",
    "# 'string text', \"string text \", '''string text''', \"\"\" string\"\"\"\n",
    "# `string text` type script\n",
    "\n",
    "# name : str = 'Muhammad Umair'\n",
    "# education : str = \"BS in Data Software\"\n",
    "# age : int = 30\n",
    "\n",
    "# card : str = \"PIAIC Student Card\\nStudent Name: \" + name + \"\\nAge:\" + str(age)\n",
    "\n",
    "# print(card)\n",
    "\n",
    "name : str  = \"Umair\"\n",
    "age : int = 32\n",
    "card : str = \"PIAIC Student : \" + name + \"\\nAge : \" + str(age)  \n",
    " \n",
    "print(card)"
   ]
  },
  {
   "cell_type": "code",
   "execution_count": 9,
   "metadata": {},
   "outputs": [
    {
     "name": "stdout",
     "output_type": "stream",
     "text": [
      "PIAIC Student Card \n",
      "Student Name : Umair\n",
      "Age : 20\n",
      "Education :BSSE\n"
     ]
    }
   ],
   "source": [
    "# boundries\n",
    "# 'string text', \"string text \", '''string text''', \"\"\" string\"\"\"\n",
    "# `string text` type script\n",
    "\n",
    "# name : str = 'Muhammad Qasim'\n",
    "# fname : str = \"Muhammad Aslam\"\n",
    "# education : str = \"Master in Data Science\"\n",
    "# age : int = 30\n",
    "\n",
    "# card : str = \"PIAIC Student Card\\nStudent Name: \" + name +\\\n",
    "# \"\\nAge:\" + str(age)+ \"\\n\"+\\\n",
    "# \"Education: \" + education\n",
    "\n",
    "name : str = \"Umair\"\n",
    "age : int = 20 \n",
    "edu : str =  \"BSSE\"\n",
    "card : str =  \"PIAIC Student Card \\nStudent Name : \" + name + \"\\nAge : \"  + str(age) + \"\\nEducation :\" + edu\n",
    "\n",
    "print(card)"
   ]
  },
  {
   "cell_type": "code",
   "execution_count": 10,
   "metadata": {},
   "outputs": [
    {
     "name": "stdout",
     "output_type": "stream",
     "text": [
      "' PIAIC Student Card\n",
      "# Student Name : \n",
      "# Father's Name: \n",
      "# Age: ......\n",
      "# Education : .....\n"
     ]
    }
   ],
   "source": [
    "name : str = 'Muhammad Umair'\n",
    "education : str = \"BS in Software\"\n",
    "age : int = 30\n",
    "\n",
    "\n",
    "card : str = \"\"\"\"\"\n",
    "PIAIC Student Card\n",
    "Student Name : \n",
    "Father's Name: \n",
    "Age: ......\n",
    "Education : .....\n",
    "\"\"\"\n",
    "\n",
    "print(card)\n",
    "\n",
    " "
   ]
  },
  {
   "cell_type": "markdown",
   "metadata": {},
   "source": [
    "Define multiline string \"\"\" \"\"\", ''' '''"
   ]
  },
  {
   "cell_type": "code",
   "execution_count": 12,
   "metadata": {},
   "outputs": [
    {
     "name": "stdout",
     "output_type": "stream",
     "text": [
      "Umair\n",
      "Surename Qureshi\n",
      "age 2\n",
      "Education BSSE\n",
      " \n"
     ]
    }
   ],
   "source": [
    "name = \"\"\"Umair\n",
    "Surename Qureshi\n",
    "age 2\n",
    "Education BSSE\n",
    " \"\"\"\n",
    "print(name)"
   ]
  },
  {
   "cell_type": "markdown",
   "metadata": {},
   "source": [
    "F-string pthon"
   ]
  },
  {
   "cell_type": "code",
   "execution_count": 12,
   "metadata": {},
   "outputs": [
    {
     "name": "stdout",
     "output_type": "stream",
     "text": [
      " \n",
      "PIAIC Student Card\n",
      "Student Name : Muhammad Umair\n",
      "Father's Name:  Muhammad Qadeer \n",
      "Age: 30\n",
      " Education : BS in  SE\n",
      "\n"
     ]
    }
   ],
   "source": [
    "name : str = 'Muhammad Umair'\n",
    "fname : str = \"Muhammad Qadeer\"\n",
    "education : str = \"BS in  SE\"\n",
    "age : int = 30\n",
    "\n",
    "\n",
    "card  : str =  f\"\"\"\n",
    "PIAIC Student Card\n",
    "Student Name : {name}\n",
    "Father's Name: {fname}\n",
    "Age: {age}\n",
    "Education : {education}\n",
    "\"\"\" \n",
    "\n",
    "\n",
    "\n",
    "print(card)"
   ]
  },
  {
   "cell_type": "code",
   "execution_count": 17,
   "metadata": {},
   "outputs": [
    {
     "name": "stdout",
     "output_type": "stream",
     "text": [
      "\n",
      "PIAIC Student Card\n",
      "Student Name : Muhammad Umair\n",
      "Father's Name: Muhammad Qadeer\n",
      "Age: 30\n",
      "Education : BS in  SE\n",
      "\n"
     ]
    }
   ],
   "source": [
    "name : str = 'Muhammad Umair'\n",
    "fname : str = \"Muhammad Qadeer\"\n",
    "education : str = \"BS in  SE\"\n",
    "age : int = 30\n",
    "\n",
    "\n",
    "card : str = f\"\"\"\n",
    "PIAIC Student Card\n",
    "Student Name : {name}\n",
    "Father's Name: {fname}\n",
    "Age: {age}\n",
    "Education : {education}\n",
    "\"\"\"\n",
    "\n",
    "print(card)"
   ]
  },
  {
   "cell_type": "code",
   "execution_count": 21,
   "metadata": {},
   "outputs": [
    {
     "name": "stdout",
     "output_type": "stream",
     "text": [
      "\n",
      "PIAIC Student Card\n",
      "Student Name : Muhammad Umair\n",
      "Father's Name: Muhammad Qaeder\n",
      "Age: 30\n",
      "Education : BS in SE\n",
      "\n",
      "Total:  22\n",
      "\n"
     ]
    }
   ],
   "source": [
    "name : str = 'Muhammad Umair'\n",
    "fname : str = \"Muhammad Qaeder\"\n",
    "education : str = \"BS in SE\"\n",
    "age : int = 30\n",
    "\n",
    "\n",
    "card : str = f\"\"\"\n",
    "PIAIC Student Card\n",
    "Student Name : {name}\n",
    "Father's Name: {fname}\n",
    "Age: {age}\n",
    "Education : {education}\n",
    "\n",
    "Total:  {2 + 8 + 9 + 3}\n",
    "\"\"\"\n",
    "\n",
    "print(card)"
   ]
  },
  {
   "cell_type": "markdown",
   "metadata": {},
   "source": [
    "F-string and Jinja style"
   ]
  },
  {
   "cell_type": "code",
   "execution_count": 16,
   "metadata": {},
   "outputs": [],
   "source": [
    "name = f\"\"\" \n",
    "student name {name}\n",
    "\"\"\" "
   ]
  },
  {
   "cell_type": "code",
   "execution_count": 24,
   "metadata": {},
   "outputs": [
    {
     "data": {
      "text/plain": [
       "'\\nstudent name {{name}} '"
      ]
     },
     "execution_count": 24,
     "metadata": {},
     "output_type": "execute_result"
    }
   ],
   "source": [
    "# Jinja Style\n",
    "\"\"\"\n",
    "student name {{name}} \"\"\""
   ]
  },
  {
   "cell_type": "code",
   "execution_count": 19,
   "metadata": {},
   "outputs": [
    {
     "name": "stdout",
     "output_type": "stream",
     "text": [
      "\n",
      "PIAIC Student Card\n",
      "Student Name : Muhammad Umair\n",
      "Father's Name: Muhammad Qadder\n",
      "Age: 30\n",
      "Education : BS in  SE\n",
      " \n"
     ]
    }
   ],
   "source": [
    "name : str = 'Muhammad Umair'\n",
    "fname : str = \"Muhammad Qadder\"\n",
    "education : str = \"BS in  SE\"\n",
    "age : int = 30\n",
    "\n",
    "\n",
    "# card : str = f\"\"\"\n",
    "# PIAIC Student Card\n",
    "# Student Name : %s\n",
    "# Father's Name: %s\n",
    "# Age: %d\n",
    "# Education : %s\n",
    "\n",
    "# \"\"\" % (name, fname, age, education)\n",
    "\n",
    "print(card)"
   ]
  },
  {
   "cell_type": "code",
   "execution_count": 27,
   "metadata": {},
   "outputs": [
    {
     "name": "stdout",
     "output_type": "stream",
     "text": [
      "\n",
      "message : Hello\n",
      "Country  : Pakistan\n",
      "Year : 28\n",
      " \n"
     ]
    }
   ],
   "source": [
    "message = \"Hello\"\n",
    "location : str =  \"Pakistan\"\n",
    "year : int = 28\n",
    "\n",
    "mess : str = f\"\"\"\n",
    "message : %s\n",
    "Country  : %s\n",
    "Year : %d\n",
    " \"\"\"%(message , location , year )\n",
    "print(mess)"
   ]
  },
  {
   "cell_type": "code",
   "execution_count": 20,
   "metadata": {},
   "outputs": [
    {
     "data": {
      "text/plain": [
       "['capitalize',\n",
       " 'casefold',\n",
       " 'center',\n",
       " 'count',\n",
       " 'encode',\n",
       " 'endswith',\n",
       " 'expandtabs',\n",
       " 'find',\n",
       " 'format',\n",
       " 'format_map',\n",
       " 'index',\n",
       " 'isalnum',\n",
       " 'isalpha',\n",
       " 'isascii',\n",
       " 'isdecimal',\n",
       " 'isdigit',\n",
       " 'isidentifier',\n",
       " 'islower',\n",
       " 'isnumeric',\n",
       " 'isprintable',\n",
       " 'isspace',\n",
       " 'istitle',\n",
       " 'isupper',\n",
       " 'join',\n",
       " 'ljust',\n",
       " 'lower',\n",
       " 'lstrip',\n",
       " 'maketrans',\n",
       " 'partition',\n",
       " 'removeprefix',\n",
       " 'removesuffix',\n",
       " 'replace',\n",
       " 'rfind',\n",
       " 'rindex',\n",
       " 'rjust',\n",
       " 'rpartition',\n",
       " 'rsplit',\n",
       " 'rstrip',\n",
       " 'split',\n",
       " 'splitlines',\n",
       " 'startswith',\n",
       " 'strip',\n",
       " 'swapcase',\n",
       " 'title',\n",
       " 'translate',\n",
       " 'upper',\n",
       " 'zfill']"
      ]
     },
     "execution_count": 20,
     "metadata": {},
     "output_type": "execute_result"
    }
   ],
   "source": [
    "[i for i in dir(str) if \"__\" not in i]"
   ]
  },
  {
   "cell_type": "code",
   "execution_count": 22,
   "metadata": {},
   "outputs": [
    {
     "data": {
      "text/plain": [
       "{'capitalize',\n",
       " 'casefold',\n",
       " 'center',\n",
       " 'count',\n",
       " 'encode',\n",
       " 'endswith',\n",
       " 'expandtabs',\n",
       " 'find',\n",
       " 'format',\n",
       " 'index',\n",
       " 'isalnum',\n",
       " 'isalpha',\n",
       " 'isascii',\n",
       " 'isdecimal',\n",
       " 'isdigit',\n",
       " 'isidentifier',\n",
       " 'islower',\n",
       " 'isnumeric',\n",
       " 'isprintable',\n",
       " 'isspace',\n",
       " 'istitle',\n",
       " 'isupper',\n",
       " 'join',\n",
       " 'ljust',\n",
       " 'lower',\n",
       " 'lstrip',\n",
       " 'maketrans',\n",
       " 'partition',\n",
       " 'removeprefix',\n",
       " 'removesuffix',\n",
       " 'replace',\n",
       " 'rfind',\n",
       " 'rindex',\n",
       " 'rjust',\n",
       " 'rpartition',\n",
       " 'rsplit',\n",
       " 'rstrip',\n",
       " 'split',\n",
       " 'splitlines',\n",
       " 'startswith',\n",
       " 'strip',\n",
       " 'swapcase',\n",
       " 'title',\n",
       " 'translate',\n",
       " 'upper',\n",
       " 'zfill'}"
      ]
     },
     "execution_count": 22,
     "metadata": {},
     "output_type": "execute_result"
    }
   ],
   "source": [
    "# {i for i in dir(str) if\"_\" not in i}\n",
    "# dir(str)\n",
    "{i for i in dir(str) if\"_\" not in i }"
   ]
  },
  {
   "cell_type": "markdown",
   "metadata": {},
   "source": [
    "F_ String"
   ]
  },
  {
   "cell_type": "code",
   "execution_count": 36,
   "metadata": {},
   "outputs": [
    {
     "name": "stdout",
     "output_type": "stream",
     "text": [
      "\n",
      "Piaic Student CARD\n",
      "Name : Umair\n",
      "Age : 20\n",
      "Education : BSSE\n",
      "\n"
     ]
    }
   ],
   "source": [
    "a = 3\n",
    "b = 1\n",
    "\" Pakistan value a = {} b = {} \".format(a , b) \n",
    "\n",
    "name = \"Umair\"\n",
    "age  = 20\n",
    "edu = \"BSSE\"\n",
    "\n",
    "card = '''\n",
    "Piaic Student CARD\n",
    "Name : {0}\n",
    "Age : {1}\n",
    "Education : {2}\n",
    "'''.format(name , age , edu)\n",
    "print(card)"
   ]
  },
  {
   "cell_type": "code",
   "execution_count": 37,
   "metadata": {},
   "outputs": [
    {
     "name": "stdout",
     "output_type": "stream",
     "text": [
      "My name is Umair\n",
      "12\n"
     ]
    }
   ],
   "source": [
    "student_code : str = \"\"\"\n",
    "print(\"My name is Umair\")\n",
    "a : int = 12\n",
    "print(a)\n",
    " \"\"\"\n",
    "exec(student_code)"
   ]
  },
  {
   "cell_type": "code",
   "execution_count": 45,
   "metadata": {},
   "outputs": [
    {
     "name": "stdout",
     "output_type": "stream",
     "text": [
      "  umair   \n",
      "<built-in method lstrip of str object at 0x000001B969B25370>\n"
     ]
    },
    {
     "data": {
      "text/plain": [
       "'Umair   '"
      ]
     },
     "metadata": {},
     "output_type": "display_data"
    },
    {
     "data": {
      "text/plain": [
       "'  Umair'"
      ]
     },
     "metadata": {},
     "output_type": "display_data"
    },
    {
     "data": {
      "text/plain": [
       "'Umair'"
      ]
     },
     "metadata": {},
     "output_type": "display_data"
    }
   ],
   "source": [
    "name : str = \"  Umair   \"\n",
    "print(name.casefold())\n",
    "print(name.lstrip)\n",
    "display(name.lstrip())\n",
    "display(name.rstrip())\n",
    "display(name.strip())"
   ]
  },
  {
   "cell_type": "code",
   "execution_count": 60,
   "metadata": {},
   "outputs": [
    {
     "data": {
      "text/plain": [
       "' Muhammad        Umair         '"
      ]
     },
     "metadata": {},
     "output_type": "display_data"
    },
    {
     "data": {
      "text/plain": [
       "' Muhammad Umair '"
      ]
     },
     "metadata": {},
     "output_type": "display_data"
    },
    {
     "data": {
      "text/plain": [
       "'Muhammad Umair'"
      ]
     },
     "metadata": {},
     "output_type": "display_data"
    },
    {
     "data": {
      "text/plain": [
       "'Hamza'"
      ]
     },
     "metadata": {},
     "output_type": "display_data"
    },
    {
     "data": {
      "text/plain": [
       "'Muhammad Humza'"
      ]
     },
     "metadata": {},
     "output_type": "display_data"
    },
    {
     "name": "stdout",
     "output_type": "stream",
     "text": [
      "Name : \t\t Muhammad Umair\n",
      "Name Muhammad Umair\n",
      "Name : \n",
      " Muhammad Umair\n"
     ]
    }
   ],
   "source": [
    "import re\n",
    "name : str = \" Muhammad        Umair         \"\n",
    "display(name) \n",
    "name1  : str = re.sub(\" {2,100}\",\" \",name)\n",
    "name2  : str = re.sub(\" {2,100}\",\" \",name).strip()\n",
    "display(name1)\n",
    "display(name2)\n",
    "\n",
    "name3 : str  = \"hamza\"\n",
    "display(name3.title())\n",
    "fanme : str = \"Muhammad\"\n",
    "lname : str = \"humza\" \n",
    "fullname : str  = f\"{fanme} {lname}\" \n",
    "display(fullname.title())\n",
    "print(\"Name : \\t\\t Muhammad Umair\")\n",
    "\n",
    "print(\"Name :\\bMuhammad Umair\")\n",
    "\n",
    "print(\"Name : \\n Muhammad Umair\")\n"
   ]
  }
 ],
 "metadata": {
  "kernelspec": {
   "display_name": "Python 3",
   "language": "python",
   "name": "python3"
  },
  "language_info": {
   "codemirror_mode": {
    "name": "ipython",
    "version": 3
   },
   "file_extension": ".py",
   "mimetype": "text/x-python",
   "name": "python",
   "nbconvert_exporter": "python",
   "pygments_lexer": "ipython3",
   "version": "3.12.2"
  }
 },
 "nbformat": 4,
 "nbformat_minor": 2
}
