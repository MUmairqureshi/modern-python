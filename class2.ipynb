{
 "cells": [
  {
   "cell_type": "code",
   "execution_count": 8,
   "metadata": {},
   "outputs": [
    {
     "name": "stdout",
     "output_type": "stream",
     "text": [
      "PIAIC Student : Umair\n",
      "Age : 32\n"
     ]
    }
   ],
   "source": [
    "# boundries\n",
    "# 'string text', \"string text \", '''string text''', \"\"\" string\"\"\"\n",
    "# `string text` type script\n",
    "\n",
    "# name : str = 'Muhammad Umair'\n",
    "# education : str = \"BS in Data Software\"\n",
    "# age : int = 30\n",
    "\n",
    "# card : str = \"PIAIC Student Card\\nStudent Name: \" + name + \"\\nAge:\" + str(age)\n",
    "\n",
    "# print(card)\n",
    "\n",
    "name : str  = \"Umair\"\n",
    "age : int = 32\n",
    "card : str = \"PIAIC Student : \" + name + \"\\nAge : \" + str(age)  \n",
    " \n",
    "print(card)"
   ]
  },
  {
   "cell_type": "code",
   "execution_count": 9,
   "metadata": {},
   "outputs": [
    {
     "name": "stdout",
     "output_type": "stream",
     "text": [
      "PIAIC Student Card \n",
      "Student Name : Umair\n",
      "Age : 20\n",
      "Education :BSSE\n"
     ]
    }
   ],
   "source": [
    "# boundries\n",
    "# 'string text', \"string text \", '''string text''', \"\"\" string\"\"\"\n",
    "# `string text` type script\n",
    "\n",
    "# name : str = 'Muhammad Qasim'\n",
    "# fname : str = \"Muhammad Aslam\"\n",
    "# education : str = \"Master in Data Science\"\n",
    "# age : int = 30\n",
    "\n",
    "# card : str = \"PIAIC Student Card\\nStudent Name: \" + name +\\\n",
    "# \"\\nAge:\" + str(age)+ \"\\n\"+\\\n",
    "# \"Education: \" + education\n",
    "\n",
    "name : str = \"Umair\"\n",
    "age : int = 20 \n",
    "edu : str =  \"BSSE\"\n",
    "card : str =  \"PIAIC Student Card \\nStudent Name : \" + name + \"\\nAge : \"  + str(age) + \"\\nEducation :\" + edu\n",
    "\n",
    "print(card)"
   ]
  },
  {
   "cell_type": "code",
   "execution_count": 10,
   "metadata": {},
   "outputs": [
    {
     "name": "stdout",
     "output_type": "stream",
     "text": [
      "' PIAIC Student Card\n",
      "# Student Name : \n",
      "# Father's Name: \n",
      "# Age: ......\n",
      "# Education : .....\n"
     ]
    }
   ],
   "source": [
    "# name : str = 'Muhammad Umair'\n",
    "# education : str = \"BS in Software\"\n",
    "# age : int = 30\n",
    "\n",
    "\n",
    "# card : str = \"\"\"\"\"\n",
    "# PIAIC Student Card\n",
    "# Student Name : \n",
    "# Father's Name: \n",
    "# Age: ......\n",
    "# Education : .....\n",
    "# \"\"\"\n",
    "\n",
    "# print(card)\n",
    "\n",
    "\n",
    "\n",
    "card : str = '''' PIAIC Student Card\n",
    "# Student Name : \n",
    "# Father's Name: \n",
    "# Age: ......\n",
    "# Education : .....'''\n",
    "print(card)"
   ]
  },
  {
   "cell_type": "markdown",
   "metadata": {},
   "source": [
    "Define multiline string \"\"\" \"\"\", ''' '''"
   ]
  },
  {
   "cell_type": "code",
   "execution_count": 12,
   "metadata": {},
   "outputs": [
    {
     "name": "stdout",
     "output_type": "stream",
     "text": [
      "Umair\n",
      "Surename Qureshi\n",
      "age 2\n",
      "Education BSSE\n",
      " \n"
     ]
    }
   ],
   "source": [
    "name = \"\"\"Umair\n",
    "Surename Qureshi\n",
    "age 2\n",
    "Education BSSE\n",
    " \"\"\"\n",
    "print(name)"
   ]
  },
  {
   "cell_type": "markdown",
   "metadata": {},
   "source": [
    "F-string pthon"
   ]
  },
  {
   "cell_type": "code",
   "execution_count": 15,
   "metadata": {},
   "outputs": [
    {
     "name": "stdout",
     "output_type": "stream",
     "text": [
      "\n",
      "PIAIC Student Card\n",
      "Student Name : Muhammad Umair\n",
      "Father's Name: Muhammad Qadeer\n",
      "Age: 30\n",
      "Education : BS in  SE\n",
      "\n"
     ]
    }
   ],
   "source": [
    "name : str = 'Muhammad Umair'\n",
    "fname : str = \"Muhammad Qadeer\"\n",
    "education : str = \"BS in  SE\"\n",
    "age : int = 30\n",
    "\n",
    "\n",
    "card  : str =  f\"\"\"\n",
    "PIAIC Student Card\n",
    "Student Name : {name}\n",
    "Father's Name: {fname}\n",
    "Age: {age}\n",
    "Education : {education}\n",
    "\"\"\" \n",
    "\n",
    "\n",
    "print(card)"
   ]
  },
  {
   "cell_type": "code",
   "execution_count": 17,
   "metadata": {},
   "outputs": [
    {
     "name": "stdout",
     "output_type": "stream",
     "text": [
      "\n",
      "PIAIC Student Card\n",
      "Student Name : Muhammad Umair\n",
      "Father's Name: Muhammad Qadeer\n",
      "Age: 30\n",
      "Education : BS in  SE\n",
      "\n"
     ]
    }
   ],
   "source": [
    "name : str = 'Muhammad Umair'\n",
    "fname : str = \"Muhammad Qadeer\"\n",
    "education : str = \"BS in  SE\"\n",
    "age : int = 30\n",
    "\n",
    "\n",
    "card : str = f\"\"\"\n",
    "PIAIC Student Card\n",
    "Student Name : {name}\n",
    "Father's Name: {fname}\n",
    "Age: {age}\n",
    "Education : {education}\n",
    "\"\"\"\n",
    "\n",
    "print(card)"
   ]
  },
  {
   "cell_type": "code",
   "execution_count": 21,
   "metadata": {},
   "outputs": [
    {
     "name": "stdout",
     "output_type": "stream",
     "text": [
      "\n",
      "PIAIC Student Card\n",
      "Student Name : Muhammad Umair\n",
      "Father's Name: Muhammad Qaeder\n",
      "Age: 30\n",
      "Education : BS in SE\n",
      "\n",
      "Total:  22\n",
      "\n"
     ]
    }
   ],
   "source": [
    "name : str = 'Muhammad Umair'\n",
    "fname : str = \"Muhammad Qaeder\"\n",
    "education : str = \"BS in SE\"\n",
    "age : int = 30\n",
    "\n",
    "\n",
    "card : str = f\"\"\"\n",
    "PIAIC Student Card\n",
    "Student Name : {name}\n",
    "Father's Name: {fname}\n",
    "Age: {age}\n",
    "Education : {education}\n",
    "\n",
    "Total:  {2 + 8 + 9 + 3}\n",
    "\"\"\"\n",
    "\n",
    "print(card)"
   ]
  },
  {
   "cell_type": "markdown",
   "metadata": {},
   "source": [
    "F-string and Jinja style"
   ]
  },
  {
   "cell_type": "code",
   "execution_count": 22,
   "metadata": {},
   "outputs": [
    {
     "ename": "SyntaxError",
     "evalue": "incomplete input (3216949432.py, line 1)",
     "output_type": "error",
     "traceback": [
      "\u001b[1;36m  Cell \u001b[1;32mIn[22], line 1\u001b[1;36m\u001b[0m\n\u001b[1;33m    f\"\"\"\u001b[0m\n\u001b[1;37m    ^\u001b[0m\n\u001b[1;31mSyntaxError\u001b[0m\u001b[1;31m:\u001b[0m incomplete input\n"
     ]
    }
   ],
   "source": [
    "name = f\"\"\" \"\"\" \n",
    "student name {name}"
   ]
  },
  {
   "cell_type": "code",
   "execution_count": 24,
   "metadata": {},
   "outputs": [
    {
     "data": {
      "text/plain": [
       "'\\nstudent name {{name}} '"
      ]
     },
     "execution_count": 24,
     "metadata": {},
     "output_type": "execute_result"
    }
   ],
   "source": [
    "# Jinja Style\n",
    "\"\"\"\n",
    "student name {{name}} \"\"\""
   ]
  },
  {
   "cell_type": "code",
   "execution_count": 26,
   "metadata": {},
   "outputs": [
    {
     "name": "stdout",
     "output_type": "stream",
     "text": [
      "\n",
      "PIAIC Student Card\n",
      "Student Name : Muhammad Umair\n",
      "Father's Name: Muhammad Qadder\n",
      "Age: 30\n",
      "Education : BS in  SE\n",
      "\n",
      "\n"
     ]
    }
   ],
   "source": [
    "name : str = 'Muhammad Umair'\n",
    "fname : str = \"Muhammad Qadder\"\n",
    "education : str = \"BS in  SE\"\n",
    "age : int = 30\n",
    "\n",
    "\n",
    "card : str = f\"\"\"\n",
    "PIAIC Student Card\n",
    "Student Name : %s\n",
    "Father's Name: %s\n",
    "Age: %d\n",
    "Education : %s\n",
    "\n",
    "\"\"\" % (name, fname, age, education)\n",
    "\n",
    "print(card)"
   ]
  },
  {
   "cell_type": "code",
   "execution_count": 27,
   "metadata": {},
   "outputs": [
    {
     "name": "stdout",
     "output_type": "stream",
     "text": [
      "\n",
      "message : Hello\n",
      "Country  : Pakistan\n",
      "Year : 28\n",
      " \n"
     ]
    }
   ],
   "source": [
    "message = \"Hello\"\n",
    "location : str =  \"Pakistan\"\n",
    "year : int = 28\n",
    "\n",
    "mess : str = f\"\"\"\n",
    "message : %s\n",
    "Country  : %s\n",
    "Year : %d\n",
    " \"\"\"%(message , location , year )\n",
    "print(mess)"
   ]
  },
  {
   "cell_type": "code",
   "execution_count": 28,
   "metadata": {},
   "outputs": [
    {
     "data": {
      "text/plain": [
       "['capitalize',\n",
       " 'casefold',\n",
       " 'center',\n",
       " 'count',\n",
       " 'encode',\n",
       " 'endswith',\n",
       " 'expandtabs',\n",
       " 'find',\n",
       " 'format',\n",
       " 'format_map',\n",
       " 'index',\n",
       " 'isalnum',\n",
       " 'isalpha',\n",
       " 'isascii',\n",
       " 'isdecimal',\n",
       " 'isdigit',\n",
       " 'isidentifier',\n",
       " 'islower',\n",
       " 'isnumeric',\n",
       " 'isprintable',\n",
       " 'isspace',\n",
       " 'istitle',\n",
       " 'isupper',\n",
       " 'join',\n",
       " 'ljust',\n",
       " 'lower',\n",
       " 'lstrip',\n",
       " 'maketrans',\n",
       " 'partition',\n",
       " 'removeprefix',\n",
       " 'removesuffix',\n",
       " 'replace',\n",
       " 'rfind',\n",
       " 'rindex',\n",
       " 'rjust',\n",
       " 'rpartition',\n",
       " 'rsplit',\n",
       " 'rstrip',\n",
       " 'split',\n",
       " 'splitlines',\n",
       " 'startswith',\n",
       " 'strip',\n",
       " 'swapcase',\n",
       " 'title',\n",
       " 'translate',\n",
       " 'upper',\n",
       " 'zfill']"
      ]
     },
     "execution_count": 28,
     "metadata": {},
     "output_type": "execute_result"
    }
   ],
   "source": [
    "[i for i in dir(str) if \"__\" not in i]"
   ]
  },
  {
   "cell_type": "code",
   "execution_count": 32,
   "metadata": {},
   "outputs": [
    {
     "data": {
      "text/plain": [
       "{'capitalize',\n",
       " 'casefold',\n",
       " 'center',\n",
       " 'count',\n",
       " 'encode',\n",
       " 'endswith',\n",
       " 'expandtabs',\n",
       " 'find',\n",
       " 'format',\n",
       " 'index',\n",
       " 'isalnum',\n",
       " 'isalpha',\n",
       " 'isascii',\n",
       " 'isdecimal',\n",
       " 'isdigit',\n",
       " 'isidentifier',\n",
       " 'islower',\n",
       " 'isnumeric',\n",
       " 'isprintable',\n",
       " 'isspace',\n",
       " 'istitle',\n",
       " 'isupper',\n",
       " 'join',\n",
       " 'ljust',\n",
       " 'lower',\n",
       " 'lstrip',\n",
       " 'maketrans',\n",
       " 'partition',\n",
       " 'removeprefix',\n",
       " 'removesuffix',\n",
       " 'replace',\n",
       " 'rfind',\n",
       " 'rindex',\n",
       " 'rjust',\n",
       " 'rpartition',\n",
       " 'rsplit',\n",
       " 'rstrip',\n",
       " 'split',\n",
       " 'splitlines',\n",
       " 'startswith',\n",
       " 'strip',\n",
       " 'swapcase',\n",
       " 'title',\n",
       " 'translate',\n",
       " 'upper',\n",
       " 'zfill'}"
      ]
     },
     "execution_count": 32,
     "metadata": {},
     "output_type": "execute_result"
    }
   ],
   "source": [
    "{i for i in dir(str) if\"_\" not in i}"
   ]
  }
 ],
 "metadata": {
  "kernelspec": {
   "display_name": "Python 3",
   "language": "python",
   "name": "python3"
  },
  "language_info": {
   "codemirror_mode": {
    "name": "ipython",
    "version": 3
   },
   "file_extension": ".py",
   "mimetype": "text/x-python",
   "name": "python",
   "nbconvert_exporter": "python",
   "pygments_lexer": "ipython3",
   "version": "3.12.2"
  }
 },
 "nbformat": 4,
 "nbformat_minor": 2
}
