{
 "cells": [
  {
   "cell_type": "markdown",
   "metadata": {},
   "source": [
    "I'am so happy to star pythin"
   ]
  },
  {
   "cell_type": "code",
   "execution_count": 1,
   "metadata": {},
   "outputs": [
    {
     "name": "stdout",
     "output_type": "stream",
     "text": [
      "hello world\n"
     ]
    }
   ],
   "source": [
    "print(\"hello world\")"
   ]
  },
  {
   "cell_type": "code",
   "execution_count": 3,
   "metadata": {},
   "outputs": [
    {
     "name": "stdout",
     "output_type": "stream",
     "text": [
      "Muhammad Umair\n",
      "<class 'str'>\n",
      "2036169532528\n",
      "['capitalize', 'casefold', 'center', 'count', 'encode', 'endswith', 'expandtabs', 'find', 'format', 'format_map', 'index', 'isalnum', 'isalpha', 'isascii', 'isdecimal', 'isdigit', 'isidentifier', 'islower', 'isnumeric', 'isprintable', 'isspace', 'istitle', 'isupper', 'join', 'ljust', 'lower', 'lstrip', 'maketrans', 'partition', 'removeprefix', 'removesuffix', 'replace', 'rfind', 'rindex', 'rjust', 'rpartition', 'rsplit', 'rstrip', 'split', 'splitlines', 'startswith', 'strip', 'swapcase', 'title', 'translate', 'upper', 'zfill']\n"
     ]
    }
   ],
   "source": [
    "name = \"Muhammad Umair\"\n",
    "print(name) # print\n",
    "print(type(name)) # type\n",
    "print(id(name)) # physcial address\n",
    "print([i for i in dir(name) if \"__\" not in i]) # methods and attributes"
   ]
  },
  {
   "cell_type": "code",
   "execution_count": 7,
   "metadata": {},
   "outputs": [
    {
     "name": "stdout",
     "output_type": "stream",
     "text": [
      "121221\n"
     ]
    }
   ],
   "source": [
    "name : str = 121221\n",
    "print(name)\n"
   ]
  },
  {
   "cell_type": "code",
   "execution_count": 9,
   "metadata": {},
   "outputs": [
    {
     "name": "stdout",
     "output_type": "stream",
     "text": [
      "['as', 'sa', 'sa']\n"
     ]
    }
   ],
   "source": [
    "name : list[str] = [\"as\", \"sa\" ,\"sa\"]\n",
    "print(name)"
   ]
  },
  {
   "cell_type": "code",
   "execution_count": 11,
   "metadata": {},
   "outputs": [
    {
     "name": "stdout",
     "output_type": "stream",
     "text": [
      "[12, 32, 2.1]\n"
     ]
    }
   ],
   "source": [
    "name : tuple[str , int , float] = [12, 32 ,2.1]\n",
    "print(name)"
   ]
  },
  {
   "cell_type": "code",
   "execution_count": 21,
   "metadata": {},
   "outputs": [
    {
     "name": "stdout",
     "output_type": "stream",
     "text": [
      "<class 'int'>\n",
      "PIAIC Student Card\n",
      "Student Name: Muhammad Umair\n",
      "Age:30\n"
     ]
    }
   ],
   "source": [
    "# boundries\n",
    "# 'string text', \"string text \", '''string text''', \"\"\" string\"\"\"\n",
    "# `string text` type script\n",
    "\n",
    "name : str = 'Muhammad Umair'\n",
    "education : str = \"BS in Software\"\n",
    "age : int = 30\n",
    "\n",
    "card : str = \"PIAIC Student Card\\nStudent Name: \" + name + \"\\nAge:\" + str(age)\n",
    "print(type(age))\n",
    "print(card)"
   ]
  },
  {
   "cell_type": "code",
   "execution_count": 22,
   "metadata": {},
   "outputs": [
    {
     "name": "stdout",
     "output_type": "stream",
     "text": [
      "PIAIC Student Card\n",
      "Student Name: Muhammad Qasim\n",
      "Age:30\n",
      "Education: Master in Data Science\n"
     ]
    }
   ],
   "source": [
    "# boundries\n",
    "# 'string text', \"string text \", '''string text''', \"\"\" string\"\"\"\n",
    "# `string text` type script\n",
    "\n",
    "name : str = 'Muhammad Qasim'\n",
    "fname : str = \"Muhammad Aslam\"\n",
    "education : str = \"Master in Data Science\"\n",
    "age : int = 30\n",
    "\n",
    "card : str = \"PIAIC Student Card\\nStudent Name: \" + name +\\\n",
    "\"\\nAge:\" + str(age)+ \"\\n\"+\\\n",
    "\"Education: \" + education\n",
    "\n",
    "print(card)"
   ]
  }
 ],
 "metadata": {
  "kernelspec": {
   "display_name": "Python 3",
   "language": "python",
   "name": "python3"
  },
  "language_info": {
   "codemirror_mode": {
    "name": "ipython",
    "version": 3
   },
   "file_extension": ".py",
   "mimetype": "text/x-python",
   "name": "python",
   "nbconvert_exporter": "python",
   "pygments_lexer": "ipython3",
   "version": "3.12.2"
  }
 },
 "nbformat": 4,
 "nbformat_minor": 2
}
